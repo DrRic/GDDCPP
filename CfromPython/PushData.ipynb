{
 "cells": [
  {
   "cell_type": "code",
   "execution_count": 36,
   "metadata": {},
   "outputs": [],
   "source": [
    "from ctypes import cdll,c_double,c_int,POINTER\n",
    "lib = cdll.LoadLibrary('./pushtdata.so')\n",
    "lib.add_x_data.argtypes = (c_int, POINTER(c_double))\n",
    "lib.add_y_data.argtypes = (c_int, POINTER(c_double))\n",
    "lib.get_x_data_size.restype = c_int\n",
    "lib.get_y_data_size.restype = c_int"
   ]
  },
  {
   "cell_type": "code",
   "execution_count": 37,
   "metadata": {},
   "outputs": [],
   "source": [
    "def push_x_row(numbers):\n",
    "    num_numbers = len(numbers)\n",
    "    array_type = c_double * num_numbers\n",
    "    lib.add_x_data(c_int(num_numbers), array_type(*numbers))\n",
    "\n",
    "def push_y_row(numbers):\n",
    "    num_numbers = len(numbers)\n",
    "    array_type = c_double * num_numbers\n",
    "    lib.add_y_data(c_int(num_numbers), array_type(*numbers))\n",
    "    "
   ]
  },
  {
   "cell_type": "code",
   "execution_count": 39,
   "metadata": {},
   "outputs": [
    {
     "name": "stdout",
     "output_type": "stream",
     "text": [
      "1000\n"
     ]
    }
   ],
   "source": [
    "filepath = '../data/mnist.csv'\n",
    "with open(filepath, \"r\") as ins:\n",
    "    first_line = ins.readline()\n",
    "    a,b = first_line.strip().split(',')\n",
    "    a=int(a)\n",
    "    count = 0\n",
    "    for line in ins:\n",
    "        data = line.strip().split(',')\n",
    "        count+=1\n",
    "        del data[-1]\n",
    "        data = list(map(float, data))\n",
    "        push_x_row(data[:a])\n",
    "        push_y_row(data[a:])\n",
    "print(count)"
   ]
  },
  {
   "cell_type": "code",
   "execution_count": 40,
   "metadata": {},
   "outputs": [
    {
     "name": "stdout",
     "output_type": "stream",
     "text": [
      "1000\n"
     ]
    }
   ],
   "source": [
    "print(lib.get_x_data_size())"
   ]
  },
  {
   "cell_type": "code",
   "execution_count": null,
   "metadata": {},
   "outputs": [],
   "source": []
  }
 ],
 "metadata": {
  "kernelspec": {
   "display_name": "Python 3",
   "language": "python",
   "name": "python3"
  },
  "language_info": {
   "codemirror_mode": {
    "name": "ipython",
    "version": 3
   },
   "file_extension": ".py",
   "mimetype": "text/x-python",
   "name": "python",
   "nbconvert_exporter": "python",
   "pygments_lexer": "ipython3",
   "version": "3.6.7"
  }
 },
 "nbformat": 4,
 "nbformat_minor": 2
}
